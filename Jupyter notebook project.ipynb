{
 "cells": [
  {
   "cell_type": "markdown",
   "id": "1c74f908",
   "metadata": {},
   "source": [
    "# My Jupyter Notebook on IBM Watson Studio"
   ]
  },
  {
   "cell_type": "markdown",
   "id": "e156dcd7",
   "metadata": {},
   "source": [
    "<b>Shaikh Md Juned Md Asif</b><br>\n",
    "Data analyst"
   ]
  },
  {
   "cell_type": "markdown",
   "id": "32419a07",
   "metadata": {},
   "source": [
    "_I am interested in data science because I like to observe things like businesses and organizations and I think I can achieve a goodposition in this field_"
   ]
  },
  {
   "cell_type": "markdown",
   "id": "9fee4be2",
   "metadata": {},
   "source": [
    "##### Multiplying 9 with 4"
   ]
  },
  {
   "cell_type": "code",
   "execution_count": 3,
   "id": "5fdb19a8",
   "metadata": {},
   "outputs": [
    {
     "data": {
      "text/plain": [
       "36"
      ]
     },
     "execution_count": 3,
     "metadata": {},
     "output_type": "execute_result"
    }
   ],
   "source": [
    "9*4"
   ]
  },
  {
   "cell_type": "markdown",
   "id": "237144a9",
   "metadata": {},
   "source": [
    "[Youtube](https://www.youtube.com/)\n",
    " - Bullet points\n",
    " | column 1 | column 2 | column 3 |\n",
    "| --- | --- | --- |\n",
    "| row 1 | row 2 | row 3 |"
   ]
  },
  {
   "cell_type": "code",
   "execution_count": null,
   "id": "cee15011",
   "metadata": {},
   "outputs": [],
   "source": []
  },
  {
   "cell_type": "code",
   "execution_count": null,
   "id": "5d0b8575",
   "metadata": {},
   "outputs": [],
   "source": []
  },
  {
   "cell_type": "code",
   "execution_count": null,
   "id": "6c398daf",
   "metadata": {},
   "outputs": [],
   "source": []
  },
  {
   "cell_type": "code",
   "execution_count": null,
   "id": "17f0d635",
   "metadata": {},
   "outputs": [],
   "source": []
  },
  {
   "cell_type": "code",
   "execution_count": null,
   "id": "92c60546",
   "metadata": {},
   "outputs": [],
   "source": []
  },
  {
   "cell_type": "code",
   "execution_count": null,
   "id": "69bec661",
   "metadata": {},
   "outputs": [],
   "source": []
  }
 ],
 "metadata": {
  "kernelspec": {
   "display_name": "Python 3 (ipykernel)",
   "language": "python",
   "name": "python3"
  },
  "language_info": {
   "codemirror_mode": {
    "name": "ipython",
    "version": 3
   },
   "file_extension": ".py",
   "mimetype": "text/x-python",
   "name": "python",
   "nbconvert_exporter": "python",
   "pygments_lexer": "ipython3",
   "version": "3.10.7"
  }
 },
 "nbformat": 4,
 "nbformat_minor": 5
}
